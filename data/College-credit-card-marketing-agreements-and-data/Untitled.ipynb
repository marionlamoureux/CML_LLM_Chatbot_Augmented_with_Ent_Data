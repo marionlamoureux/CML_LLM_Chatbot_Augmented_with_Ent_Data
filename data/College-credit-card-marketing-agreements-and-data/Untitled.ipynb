{
 "cells": [
  {
   "cell_type": "code",
   "execution_count": 21,
   "id": "fe1df4b4-f673-42a0-a1d8-8aff7921b14f",
   "metadata": {},
   "outputs": [],
   "source": [
    "import os\n",
    "from pathlib import Path\n",
    "\n",
    "import pytesseract\n",
    "from PIL import Image\n",
    "from pdf2image import convert_from_path\n",
    "\n",
    "\n",
    "seen = set()"
   ]
  },
  {
   "cell_type": "code",
   "execution_count": null,
   "id": "16b93fde-96d2-4d1f-a5bd-56849dc41afc",
   "metadata": {},
   "outputs": [],
   "source": [
    "# for file_path in Path(\"/Users/nhenrandezdelamora/Downloads/2021 College Credit Card Marketing Agreements/\").glob(\"*.pdf\"):\n",
    "#     doc = convert_from_path(file_path)\n",
    "#     for page_number, page_data in enumerate(doc):\n",
    "#         save_as = f\"{file_path.stem} - Page {page_number + 1}.txt\"\n",
    "#         if save_as in seen:\n",
    "#             continue\n",
    "#         txt = pytesseract.image_to_string(page_data).encode(\"ascii\", \"replace\").decode()\n",
    "#         print(save_as)\n",
    "#         with open(save_as, \"w\") as f:\n",
    "#             f.write(txt)\n",
    "#         seen.add(save_as)"
   ]
  },
  {
   "cell_type": "code",
   "execution_count": null,
   "id": "fe04c8d8-1d09-4d48-84d8-7af88117e1a4",
   "metadata": {},
   "outputs": [],
   "source": []
  }
 ],
 "metadata": {
  "kernelspec": {
   "display_name": "Python 3 (ipykernel)",
   "language": "python",
   "name": "python3"
  },
  "language_info": {
   "codemirror_mode": {
    "name": "ipython",
    "version": 3
   },
   "file_extension": ".py",
   "mimetype": "text/x-python",
   "name": "python",
   "nbconvert_exporter": "python",
   "pygments_lexer": "ipython3",
   "version": "3.9.7"
  }
 },
 "nbformat": 4,
 "nbformat_minor": 5
}
